{
 "cells": [
  {
   "cell_type": "markdown",
   "metadata": {},
   "source": [
    "# SMP-Mapper\n",
    "\n",
    "Metabs only."
   ]
  },
  {
   "cell_type": "code",
   "execution_count": 14,
   "metadata": {},
   "outputs": [],
   "source": [
    "import numpy as np\n",
    "import pandas as pd\n",
    "import requests\n",
    "import json\n",
    "\n",
    "import os\n",
    "from bs4 import BeautifulSoup as bs\n",
    "import re\n",
    "\n",
    "from smp_mapper_func import *\n",
    "\n",
    "\n",
    "# Set some global params\n",
    "# alpha values set rather high to get a non-stupid number of results\n",
    "alpha_ttest = 0.05 # ttest FDR threshold\n",
    "alpha_pw_maca = 0.05 # threshold for pw enrichment\n",
    "\n",
    "MACA_PEA_RESULTS_FN = \"~/Documents/zprivate-data/maca-pea-shg-hsa/pathway_results.csv\"\n",
    "METABS_TTEST_RESULTS_FN = \"~/Documents/zprivate-data/metabs-de-ttest.csv\"\n",
    "\n",
    "PATHWAY_ID_REF_TBL_FN = \"db/pathbank_all_pathways_nodesc.csv\"\n",
    "PATHBANK_METAB_REF_TBL_FN = \"db/pathbank_all_metabolites.csv\"\n",
    "\n",
    "SIMPLE_SVG_DIR = \"/Users/don/Documents/smp-mapper-metabs/db/pathbank_simple_svg/\"\n",
    "SPECIES = \"Rattus norvegicus\"\n",
    "\n",
    "# node colouring\n",
    "COLOUR_DEFAULT = \"#7570b3\" #purple\n",
    "COLOUR_UP = \"#1b9e77\" # green\n",
    "COLOUR_DOWN = \"#d95f02\" # orange\n",
    "\n",
    "def char_check(my_str): \n",
    "  \n",
    "    # Make own character set and pass  \n",
    "    # this as argument in compile method \n",
    "    regex = re.compile('[@_!#$%^&*()<>?/\\|}{~:]') \n",
    "      \n",
    "    # Pass the string in search  \n",
    "    # method of regex object.     \n",
    "    if(regex.search(my_str) != None): \n",
    "        print(my_str) \n",
    "\n",
    "def isalnum_or_space(char):\n",
    "    if (str(char).isalnum()) or (str(char) == \" \"):\n",
    "        return True"
   ]
  },
  {
   "cell_type": "code",
   "execution_count": 3,
   "metadata": {},
   "outputs": [],
   "source": [
    "# ========= read ttest results table =========\n",
    "d_metab_ttest = pd.read_csv(METABS_TTEST_RESULTS_FN)\n",
    "\n",
    "# ========= read and get ref table =========\n",
    "d_metab_ref_tbl = make_metab_ref_table(PATHWAY_ID_REF_TBL_FN, PATHBANK_METAB_REF_TBL_FN)\n",
    "d_metab_ref_tbl = d_metab_ref_tbl.loc[d_metab_ref_tbl[\"Species\"]==SPECIES].drop_duplicates()\n"
   ]
  },
  {
   "cell_type": "code",
   "execution_count": 5,
   "metadata": {},
   "outputs": [
    {
     "name": "stdout",
     "output_type": "stream",
     "text": [
      "Pathways with no matching PathBank entry (no PW ID):\n",
      "Catecholamine Biosynthesis\n"
     ]
    }
   ],
   "source": [
    "# ========= Prep PEA MetaboAnalyst =========\n",
    "d_pea_maca = pd.read_csv(MACA_PEA_RESULTS_FN)\n",
    "# filter out significant pathway names here to make the table smaller\n",
    "d_pea_maca = d_pea_maca.loc[d_pea_maca[\"Holm adjust\"] < 0.01]\n",
    "\n",
    "colnames_ls = list(d_pea_maca.columns)\n",
    "colnames_ls[0] = \"Pathway Name\"\n",
    "d_pea_maca.columns = colnames_ls\n",
    "\n",
    "d_pea_maca[\"Pathway Name\"] = d_pea_maca.apply(lambda row: sanitize_pathway_names(str(row[\"Pathway Name\"])), axis=1)\n",
    "d_metab_ref_tbl[\"Pathway Name\"] = d_metab_ref_tbl.apply(lambda row: sanitize_pathway_names(str(row[\"Pathway Name\"])), axis=1)\n",
    "\n",
    "d_t = d_metab_ref_tbl[[\"Pathway Name\", \"PathBank ID\", \"PW ID\", \"Species\"]]\n",
    "\n",
    "# Join on Pathway Name to get more IDs\n",
    "d_pea_maca = pd.merge(d_pea_maca,\n",
    "                      d_t,\n",
    "                      how=\"left\",\n",
    "                      on=\"Pathway Name\")\n",
    "\n",
    "# print rows with no matches found on `Pathway Name`\n",
    "d_t = d_pea_maca.loc[d_pea_maca[\"PW ID\"].isna()]\n",
    "if len(d_t) > 0:\n",
    "    print(\"Pathways with no matching PathBank entry (no PW ID):\")\n",
    "    for nm in list(d_t[\"Pathway Name\"]):\n",
    "        print(nm)"
   ]
  },
  {
   "cell_type": "code",
   "execution_count": 6,
   "metadata": {},
   "outputs": [],
   "source": [
    "# Create metabs_pw_dict\n",
    "maca_dict = {}\n",
    "maca_pw_id_ls = list(set(d_pea_maca[\"PW ID\"]))\n",
    "for pw_id in maca_pw_id_ls:\n",
    "    d_t = d_metab_ref_tbl.loc[d_metab_ref_tbl[\"PW ID\"]==pw_id]\n",
    "    # Filter out only required columns\n",
    "    colnames_ls = ['PathBank ID', 'Pathway Name', 'Pathway Subject', 'Species', \n",
    "              'Metabolite ID', 'Metabolite Name', 'HMDB ID', 'KEGG ID', 'PW ID']\n",
    "    d_t = d_t[colnames_ls]\n",
    "    \n",
    "    # Join with t-test results on HMDB ID\n",
    "    d_t = pd.merge(d_t, \n",
    "                   d_metab_ttest[[\"HMDB ID\", \"p.value\", \"FDR\", \"logFC\"]], \n",
    "                   how=\"left\", on=\"HMDB ID\")\n",
    "    \n",
    "    maca_dict[pw_id] = d_t"
   ]
  },
  {
   "cell_type": "code",
   "execution_count": 16,
   "metadata": {},
   "outputs": [
    {
     "name": "stdout",
     "output_type": "stream",
     "text": [
      "Num metabs found in PW088374 = 19\n",
      "Num metabs found in PW088321 = 20\n",
      "Num metabs found in PW088382 = 60\n",
      "Num metabs found in PW088361 = 43\n",
      "Num metabs found in PW088359 = 59\n",
      "Num metabs found in PW088293 = 33\n",
      "Num metabs found in PW088339 = 36\n",
      "Num metabs found in PW088308 = 20\n",
      "Num metabs found in PW088315 = 32\n",
      "Num metabs found in PW088347 = 67\n",
      "Num metabs found in PW088295 = 34\n",
      "Num metabs found in PW088368 = 25\n",
      "Num metabs found in PW088332 = 28\n",
      "Num metabs found in PW088364 = 30\n",
      "Num metabs found in PW088345 = 47\n",
      "Num metabs found in PW088300 = 32\n",
      "Num metabs found in PW088354 = 34\n",
      "Num metabs found in PW088317 = 8\n",
      "Num metabs found in PW088357 = 56\n"
     ]
    }
   ],
   "source": [
    "pw_id_ls = [str(x) for x in list(set(d_pea_maca[\"PW ID\"]))]\n",
    "pw_id_ls.remove(\"nan\")\n",
    "\n",
    "for pw_id in pw_id_ls:\n",
    "    # Read svg of the enriched pathway\n",
    "    with open(SIMPLE_SVG_DIR+pw_id+\"_simple.svg\", \"r\") as f:\n",
    "        contents = f.read()\n",
    "        soup = bs(contents, \"xml\")\n",
    "\n",
    "    print(\"Num metabs found in %s = %s\" % (pw_id, len(list(maca_dict[pw_id][\"Metabolite ID\"]))))\n",
    "    # Grab all metab_ids, and associated logfc and q-vals\n",
    "    for metab_id in list(maca_dict[pw_id][\"Metabolite ID\"]):\n",
    "        d_t = maca_dict[pw_id]\n",
    "        lfc = d_t.loc[d_t[\"Metabolite ID\"]==metab_id][\"logFC\"].values[0]\n",
    "        q_val = d_t.loc[d_t[\"Metabolite ID\"]==metab_id][\"FDR\"].values[0]\n",
    "\n",
    "        node_colour = COLOUR_DEFAULT\n",
    "        if lfc > 0.1:\n",
    "            node_colour = COLOUR_UP\n",
    "        elif lfc < -0.1:\n",
    "            node_colour = COLOUR_DOWN\n",
    "\n",
    "        # grab g tags with the data-element-ids\n",
    "        elem_ls = soup.find_all(attrs={\"data-element-id\" : metab_id})\n",
    "        if q_val < alpha_pw_maca:\n",
    "            for e in elem_ls:\n",
    "                circle = e.find('circle')\n",
    "                circle['fill'] = node_colour\n",
    "                circle[\"stroke-width\"] = \"5\"\n",
    "        elif q_val > alpha_pw_maca:\n",
    "            for e in elem_ls:\n",
    "                circle = e.find('circle')\n",
    "                circle['stroke'] = node_colour\n",
    "                circle[\"stroke-width\"] = \"10\"\n",
    "                \n",
    "        # set subpathway fill to a faint gray\n",
    "        elem_ls = soup.find_all(attrs={\"data-element-type\" : \"sub_pathway\"})\n",
    "        for e in elem_ls:\n",
    "            rect = e.find(\"rect\")\n",
    "            rect[\"fill\"] = \"#DFDFDF\"\n",
    "\n",
    "    # write out\n",
    "    with open(\"./test-out/\"+pw_id+\".svg\", \"w\") as f:\n",
    "        # Hack to fix some kind of fudged logic which introduces a syntax error in reading the svg\n",
    "        f.write(soup.prettify().replace('xmlns:=\"', 'xmlns=\"'))"
   ]
  },
  {
   "cell_type": "code",
   "execution_count": null,
   "metadata": {},
   "outputs": [],
   "source": []
  },
  {
   "cell_type": "code",
   "execution_count": null,
   "metadata": {},
   "outputs": [],
   "source": []
  }
 ],
 "metadata": {
  "kernelspec": {
   "display_name": "Python 3",
   "language": "python",
   "name": "python3"
  },
  "language_info": {
   "codemirror_mode": {
    "name": "ipython",
    "version": 3
   },
   "file_extension": ".py",
   "mimetype": "text/x-python",
   "name": "python",
   "nbconvert_exporter": "python",
   "pygments_lexer": "ipython3",
   "version": "3.7.4"
  }
 },
 "nbformat": 4,
 "nbformat_minor": 4
}
