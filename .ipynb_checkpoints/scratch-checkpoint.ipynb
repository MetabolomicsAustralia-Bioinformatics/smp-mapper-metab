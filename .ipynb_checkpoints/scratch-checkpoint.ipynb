{
 "cells": [
  {
   "cell_type": "code",
   "execution_count": 9,
   "metadata": {},
   "outputs": [],
   "source": [
    "import numpy as np\n",
    "import pandas as pd\n",
    "\n",
    "import os\n",
    "import json\n",
    "\n",
    "import time\n",
    "from tqdm import tqdm\n",
    "\n",
    "from scipy.stats import ttest_ind\n",
    "import statsmodels.stats.multitest\n",
    "\n",
    "import ast\n",
    "\n",
    "from smp_mapper_func import *"
   ]
  },
  {
   "cell_type": "code",
   "execution_count": 4,
   "metadata": {},
   "outputs": [],
   "source": [
    "PATHWAY_ID_REF_TBL_FN = \"db/pathbank_all_pathways_nodesc.csv\"\n",
    "PATHBANK_METAB_REF_TBL_FN = \"db/pathbank_all_metabolites.csv\"\n",
    "\n",
    "d_pw_ids = pd.read_csv(PATHWAY_ID_REF_TBL_FN)\n",
    "d_metab_ref_tbl = pd.read_csv(PATHBANK_METAB_REF_TBL_FN)"
   ]
  },
  {
   "cell_type": "code",
   "execution_count": 7,
   "metadata": {},
   "outputs": [
    {
     "name": "stdout",
     "output_type": "stream",
     "text": [
      "110242\n"
     ]
    }
   ],
   "source": [
    "d_pw_ids\n",
    "\n",
    "print(len(set(d_pw_ids[\"SMPDB ID\"])))"
   ]
  },
  {
   "cell_type": "code",
   "execution_count": 8,
   "metadata": {},
   "outputs": [
    {
     "name": "stdout",
     "output_type": "stream",
     "text": [
      "110158\n"
     ]
    }
   ],
   "source": [
    "print(len(set(d_metab_ref_tbl[\"PathBank ID\"])))"
   ]
  },
  {
   "cell_type": "code",
   "execution_count": 11,
   "metadata": {},
   "outputs": [],
   "source": [
    "dz = make_metab_ref_table(PATHWAY_ID_REF_TBL_FN, PATHBANK_METAB_REF_TBL_FN)"
   ]
  },
  {
   "cell_type": "code",
   "execution_count": 14,
   "metadata": {},
   "outputs": [
    {
     "name": "stdout",
     "output_type": "stream",
     "text": [
      "(1977865, 19)\n",
      "110242\n"
     ]
    }
   ],
   "source": [
    "print(dz.shape)\n",
    "print(len(set(dz[\"PathBank ID\"])))"
   ]
  },
  {
   "cell_type": "code",
   "execution_count": null,
   "metadata": {},
   "outputs": [],
   "source": []
  }
 ],
 "metadata": {
  "kernelspec": {
   "display_name": "Python 3",
   "language": "python",
   "name": "python3"
  },
  "language_info": {
   "codemirror_mode": {
    "name": "ipython",
    "version": 3
   },
   "file_extension": ".py",
   "mimetype": "text/x-python",
   "name": "python",
   "nbconvert_exporter": "python",
   "pygments_lexer": "ipython3",
   "version": "3.7.4"
  }
 },
 "nbformat": 4,
 "nbformat_minor": 4
}
